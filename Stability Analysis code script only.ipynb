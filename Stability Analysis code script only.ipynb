{
 "cells": [
  {
   "cell_type": "markdown",
   "id": "d167ed8e",
   "metadata": {},
   "source": [
    "# Stability Analysis in Spacecraft Engineering"
   ]
  },
  {
   "cell_type": "markdown",
   "id": "52c132d5",
   "metadata": {},
   "source": [
    "### Step 1: Importing Libraries\n",
    "First, we'll import the libraries needed for this project. We'll be using `numpy` for numerical operations, `matplotlib` for visualizations, and `ipywidgets` for interactive sliders.\n"
   ]
  },
  {
   "cell_type": "code",
   "execution_count": 1,
   "id": "361b8974",
   "metadata": {},
   "outputs": [],
   "source": [
    "# Import necessary libraries\n",
    "import numpy as np\n",
    "import matplotlib.pyplot as plt\n",
    "import ipywidgets as widgets\n",
    "from IPython.display import display"
   ]
  },
  {
   "cell_type": "markdown",
   "id": "898ddb5d",
   "metadata": {},
   "source": [
    "### Step 2: Defining the Stability Score Function\n",
    "We'll create a function that takes input values for friction, gravity, angle and force to calculate a predicted stability score. This score will be used to assess the system's stability.\n"
   ]
  },
  {
   "cell_type": "code",
   "execution_count": 2,
   "id": "cb51c80a",
   "metadata": {},
   "outputs": [],
   "source": [
    "# Function to calculate the stability score based on input parameters\n",
    "def stability_score(friction, gravity, angle, force):\n",
    "    # Replace with your actual stability score formula\n",
    "    return (friction * gravity * angle * force)"
   ]
  },
  {
   "cell_type": "markdown",
   "id": "de6838ae",
   "metadata": {},
   "source": [
    "### Step 3: Creating the Explanation Function for the Stability Score\n",
    "We'll create a function to explain the stability score. This function will categorise the score into different brackets and provide an explanation for each range.\n"
   ]
  },
  {
   "cell_type": "code",
   "execution_count": 3,
   "id": "57f64026",
   "metadata": {},
   "outputs": [],
   "source": [
    "# Function to explain the stability score based on its value\n",
    "def explain_stability_score(score):\n",
    "    if score < 5000:\n",
    "        return \"Low: The system's stability is potentially inadequate for safe operation. Consider increasing friction or optimizing force.\"\n",
    "    elif 5000 <= score < 15000:\n",
    "        return \"Moderate: The system can handle normal conditions but may struggle in extreme situations. Optimization may be needed.\"\n",
    "    elif 15000 <= score < 30000:\n",
    "        return \"Good: The system is stable under standard conditions but could benefit from fine-tuning for specialized scenarios.\"\n",
    "    else:\n",
    "        return \"Ideal: The system is well-optimized and performs reliably across different conditions.\"\n"
   ]
  },
  {
   "cell_type": "markdown",
   "id": "4c13ff31",
   "metadata": {},
   "source": [
    "### Step 4: Creating Interactive Widgets for User Input\n",
    "We'll create interactive sliders for each of the input parameters (friction, gravity, angle and force). These sliders will allow the user to adjust the values and see how they affect the predicted stability score.\n"
   ]
  },
  {
   "cell_type": "code",
   "execution_count": 4,
   "id": "52d582d1",
   "metadata": {},
   "outputs": [],
   "source": [
    "# Create interactive sliders for user input\n",
    "friction_slider = widgets.FloatSlider(value=0.5, min=0.0, max=1.0, step=0.01, description='Friction')\n",
    "gravity_slider = widgets.FloatSlider(value=9.81, min=0.1, max=20.0, step=0.1, description='Gravity (m/s²)')\n",
    "angle_slider = widgets.IntSlider(value=45, min=0, max=90, step=1, description='Angle (°)')\n",
    "force_slider = widgets.FloatSlider(value=1000, min=0, max=5000, step=10, description='Force (N)')"
   ]
  },
  {
   "cell_type": "code",
   "execution_count": 5,
   "id": "b29b90cf",
   "metadata": {},
   "outputs": [],
   "source": [
    "# Function to update and display results when sliders are changed\n",
    "def update_results(friction, gravity, angle, force):\n",
    "    # Calculate the stability score\n",
    "    score = stability_score(friction, gravity, angle, force)\n",
    "    # Generate the explanation for the stability score\n",
    "    explanation = explain_stability_score(score)\n",
    "    \n",
    "    # Display the predicted stability score and the explanation\n",
    "    print(f\" Predicted Stability Score: {score:.2f}\")\n",
    "    print(f\" Explanation: {explanation}\")"
   ]
  },
  {
   "cell_type": "code",
   "execution_count": 6,
   "id": "0f1e34ca",
   "metadata": {
    "scrolled": true
   },
   "outputs": [
    {
     "data": {
      "application/vnd.jupyter.widget-view+json": {
       "model_id": "f8b8485f5ba5477f96728627037ee906",
       "version_major": 2,
       "version_minor": 0
      },
      "text/plain": [
       "interactive(children=(FloatSlider(value=0.5, description='Friction', max=1.0, step=0.01), FloatSlider(value=9.…"
      ]
     },
     "metadata": {},
     "output_type": "display_data"
    }
   ],
   "source": [
    "# Link the sliders to the function and display the interactive widget\n",
    "widgets.interact(update_results, \n",
    "                friction=friction_slider, \n",
    "                gravity=gravity_slider, \n",
    "                angle=angle_slider, \n",
    "                force=force_slider);"
   ]
  },
  {
   "cell_type": "code",
   "execution_count": null,
   "id": "32ca8a4d",
   "metadata": {},
   "outputs": [],
   "source": []
  }
 ],
 "metadata": {
  "kernelspec": {
   "display_name": "Python 3 (ipykernel)",
   "language": "python",
   "name": "python3"
  },
  "language_info": {
   "codemirror_mode": {
    "name": "ipython",
    "version": 3
   },
   "file_extension": ".py",
   "mimetype": "text/x-python",
   "name": "python",
   "nbconvert_exporter": "python",
   "pygments_lexer": "ipython3",
   "version": "3.11.5"
  }
 },
 "nbformat": 4,
 "nbformat_minor": 5
}
