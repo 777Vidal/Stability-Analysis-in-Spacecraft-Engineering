{
 "cells": [
  {
   "cell_type": "markdown",
   "id": "d167ed8e",
   "metadata": {},
   "source": [
    "# Stability Analysis in Spacecraft Engineering"
   ]
  },
  {
   "cell_type": "markdown",
   "id": "36f8ad27",
   "metadata": {},
   "source": [
    "### Introduction: Stability Analysis in Spacecraft Engineering\n",
    "\n",
    "The goal of this project is to explore how various physical parameters; friction, gravity, angle of approach and applied force, affect the stability of a spacecraft during operations such as re-entry, landing or docking. Stability is a critical factor in ensuring the success of space missions, influencing safety, efficiency and mission reliability.\n",
    "\n",
    "Using a machine learning model, this tool predicts a stability score based on user-defined inputs for these parameters. The application provides insights into how adjusting these variables can optimize performance, while also considering practical limitations faced in real-world space exploration.\n",
    "\n",
    "Through this project, users can:\n",
    "1. Experiment with different environmental and operational conditions for Earth and Moon entry/reentry and landing procedures.\n",
    "2. Understand how the interplay of these parameters impacts stability.\n",
    "3. Learn about the trade-offs between optimization, safety and practicality in spacecraft design.\n",
    "\n",
    "This project serves as a simplified yet informative demonstration of how data-driven approaches can assist in the design and analysis of aerospace systems, providing a foundation for deeper exploration of real-world challenges in space engineering.\n"
   ]
  },
  {
   "cell_type": "markdown",
   "id": "52c132d5",
   "metadata": {},
   "source": [
    "### Step 1: Importing Libraries\n",
    "First, we'll import the libraries needed for this project. We'll be using `numpy` for numerical operations, `matplotlib` for visualizations, and `ipywidgets` for interactive sliders.\n"
   ]
  },
  {
   "cell_type": "code",
   "execution_count": 4,
   "id": "361b8974",
   "metadata": {},
   "outputs": [],
   "source": [
    "# Import necessary libraries\n",
    "import numpy as np\n",
    "import matplotlib.pyplot as plt\n",
    "import ipywidgets as widgets\n",
    "from IPython.display import display"
   ]
  },
  {
   "cell_type": "markdown",
   "id": "898ddb5d",
   "metadata": {},
   "source": [
    "### Step 2: Defining the Stability Score Function\n",
    "We'll create a function that takes input values for friction, gravity, angle and force to calculate a predicted stability score. This score will be used to assess the system's stability.\n"
   ]
  },
  {
   "cell_type": "code",
   "execution_count": 5,
   "id": "cb51c80a",
   "metadata": {},
   "outputs": [],
   "source": [
    "# Function to calculate the stability score based on input parameters\n",
    "def stability_score(friction, gravity, angle, force):\n",
    "    # Replace with your actual stability score formula\n",
    "    return (friction * gravity * angle * force)"
   ]
  },
  {
   "cell_type": "markdown",
   "id": "de6838ae",
   "metadata": {},
   "source": [
    "### Step 3: Creating the Explanation Function for the Stability Score\n",
    "We'll create a function to explain the stability score. This function will categorise the score into different brackets and provide an explanation for each range.\n"
   ]
  },
  {
   "cell_type": "code",
   "execution_count": 6,
   "id": "57f64026",
   "metadata": {},
   "outputs": [],
   "source": [
    "# Function to explain the stability score based on its value\n",
    "def explain_stability_score(score):\n",
    "    if score < 5000:\n",
    "        return \"Low: The system's stability is potentially inadequate for safe operation. Consider increasing friction or optimizing force.\"\n",
    "    elif 5000 <= score < 15000:\n",
    "        return \"Moderate: The system can handle normal conditions but may struggle in extreme situations. Optimization may be needed.\"\n",
    "    elif 15000 <= score < 30000:\n",
    "        return \"Good: The system is stable under standard conditions but could benefit from fine-tuning for specialized scenarios.\"\n",
    "    else:\n",
    "        return \"Ideal: The system is well-optimized and performs reliably across different conditions.\"\n"
   ]
  },
  {
   "cell_type": "markdown",
   "id": "4c13ff31",
   "metadata": {},
   "source": [
    "### Step 4: Creating Interactive Widgets for User Input\n",
    "We'll create interactive sliders for each of the input parameters (friction, gravity, angle and force). These sliders will allow the user to adjust the values and see how they affect the predicted stability score.\n"
   ]
  },
  {
   "cell_type": "code",
   "execution_count": 7,
   "id": "52d582d1",
   "metadata": {},
   "outputs": [],
   "source": [
    "# Create interactive sliders for user input\n",
    "friction_slider = widgets.FloatSlider(value=0.5, min=0.0, max=1.0, step=0.01, description='Friction')\n",
    "gravity_slider = widgets.FloatSlider(value=9.81, min=0.1, max=20.0, step=0.1, description='Gravity (m/s²)')\n",
    "angle_slider = widgets.IntSlider(value=45, min=0, max=90, step=1, description='Angle (°)')\n",
    "force_slider = widgets.FloatSlider(value=1000, min=0, max=5000, step=10, description='Force (N)')"
   ]
  },
  {
   "cell_type": "markdown",
   "id": "c6d62476",
   "metadata": {},
   "source": [
    "### Step 5: Creating the Function to Update and Display Results\n",
    "We'll create a function that calculates the stability score and provides an explanation whenever the sliders are adjusted.\n"
   ]
  },
  {
   "cell_type": "markdown",
   "id": "8f6ad233",
   "metadata": {},
   "source": [
    "### Step 6: Linking the Sliders to the Update Function\n",
    "We will use `ipywidgets.interact()` to link the sliders to the `update_results()` function so that it runs automatically whenever the slider values change.\n"
   ]
  },
  {
   "cell_type": "markdown",
   "id": "6729f664",
   "metadata": {},
   "source": [
    "### Friction Explained\n",
    "Friction is the force that resists the motion of an object as it moves across a surface. In the context of our stability model, the **friction coefficient** affects the stability of the system during motion, such as the entering of an atmosphere, landing of a rocket or an aircraft.\n",
    "\n",
    "- **Low Friction (e.g., 0.1 - 0.3)**: Indicates a slippery surface or environment where resistance is minimal. This can make the system less stable as it might slide or move more than desired during landing or maneuvering.\n",
    "- **Medium Friction (e.g., 0.4 - 0.7)**: Represents a moderately resistant surface. This level can provide adequate stability for standard operations but might need adjustments for optimal performance.\n",
    "- **High Friction (e.g., 0.8 - 1.0)**: Indicates a high-resistance environment where the system is more stable as it encounters significant resistance during motion. This can be beneficial for landing or operation stability but may increase energy loss.\n",
    "\n",
    "When adjusting the friction slider, consider how different surfaces (e.g., sandy, icy, or paved) affect the performance of an aircraft or rocket. The friction value directly influences the stability score, so make sure to test different values to understand their impact on your system.\n"
   ]
  },
  {
   "cell_type": "markdown",
   "id": "8b592b2a",
   "metadata": {},
   "source": [
    "### Force Explained\n",
    "Force is the push or pull exerted on an object. In this model, force represents the magnitude of thrust or impact that affects the system's stability, such as the force generated during a rocket's takeoff or landing.\n",
    "\n",
    "- **Low Force (e.g., 0 - 500 N)**: Indicates a lower amount of force applied, which may result in insufficient movement or stability under certain conditions. This could simulate a system that is underpowered or lacks the necessary thrust for stable operation.\n",
    "- **Moderate Force (e.g., 500 - 2000 N)**: Represents a balanced amount of force that can provide stable performance for most standard conditions. This value is often used to simulate regular operations of engines or propulsion systems.\n",
    "- **High Force (e.g., 2000 - 5000 N)**: Represents a significant amount of force applied, which could be beneficial for quick maneuvers or overcoming external resistance. However, high force can also lead to instability if not managed properly.\n",
    "\n",
    "When adjusting the force slider, think about how different propulsion strengths (e.g., rocket engines, jet turbines) influence the system's stability. The force value is crucial for ensuring that the system can withstand various conditions while maintaining control.\n"
   ]
  },
  {
   "cell_type": "markdown",
   "id": "ff1c57a6",
   "metadata": {},
   "source": [
    "### Gravity Explained\n",
    "Gravity is the force that pulls objects toward the center of a planet or celestial body. In this model, the **gravity value** represents the gravitational pull acting on the system, which directly impacts how the system's stability is assessed during landing or maneuvers.\n",
    "\n",
    "- **Low Gravity (e.g., 1.0 - 2.0 m/s²)**: Represents environments like the Moon, where gravity is significantly weaker than on Earth. Systems will experience less downward force, which can lead to longer flight times and different landing dynamics. This requires careful adjustment of other parameters, such as force and angle, to maintain stability.\n",
    "- **Earth's Gravity (e.g., 9.8 m/s²)**: Represents standard gravity on Earth. Most operations and systems are designed with Earth’s gravity in mind. It serves as a baseline for normal operations, with typical force and friction values.\n",
    "- **High Gravity (e.g., 15.0 - 20.0 m/s²)**: Represents conditions where the gravitational pull is stronger, such as on some larger planetary bodies or hypothetical scenarios. This can make landing more challenging as the system will experience increased downward force, requiring more powerful thrust or adjustments to the angle of approach.\n",
    "\n",
    "When adjusting the gravity slider, consider how different environments (e.g., Earth, Moon, Mars) affect the performance and stability of the system. The gravity value is essential for modeling realistic scenarios, such as how a spacecraft would behave landing on different celestial bodies.\n"
   ]
  },
  {
   "cell_type": "markdown",
   "id": "a331c090",
   "metadata": {},
   "source": [
    "### Angle Explained\n",
    "The angle parameter represents the **angle of approach** or the trajectory that the system takes when entering a surface or atmosphere. The approach angle significantly impacts the stability during landing or maneuvering.\n",
    "\n",
    "- **Low Angle (e.g., 0° - 15°)**: Represents a shallow entry or approach, where the system comes in at a very gentle angle. This can reduce the force exerted on the system during landing but may result in longer flight paths and higher potential for gliding, which could be problematic for precision landings.\n",
    "- **Medium Angle (e.g., 15° - 45°)**: Represents a standard or typical angle of approach. This angle balances a controlled descent with enough force for a stable landing. It is often used in most real-world applications for both aircraft and spacecraft.\n",
    "- **High Angle (e.g., 45° - 75°)**: Represents a steeper approach, where the system descends more rapidly. While this can shorten the landing time and path, it requires greater control and potentially higher force to manage the increased downward force and maintain stability.\n",
    "- **Very High Angle (e.g., 75° - 90°)**: Represents a nearly vertical approach, which is more extreme and challenging to control. It could be used in emergency landings or when a quick descent is needed, but it increases the risk of instability and may require advanced systems for stabilization.\n",
    "\n",
    "Adjust the angle slider to see how different approach trajectories impact the system's stability. This is crucial for designing landing strategies for vehicles like rockets and aircraft, where the angle can affect both speed and safety during descent.\n"
   ]
  },
  {
   "cell_type": "code",
   "execution_count": 8,
   "id": "b29b90cf",
   "metadata": {},
   "outputs": [],
   "source": [
    "# Function to update and display results when sliders are changed\n",
    "def update_results(friction, gravity, angle, force):\n",
    "    # Calculate the stability score\n",
    "    score = stability_score(friction, gravity, angle, force)\n",
    "    # Generate the explanation for the stability score\n",
    "    explanation = explain_stability_score(score)\n",
    "    \n",
    "    # Display the predicted stability score and the explanation\n",
    "    print(f\" Predicted Stability Score: {score:.2f}\")\n",
    "    print(f\" Explanation: {explanation}\")"
   ]
  },
  {
   "cell_type": "code",
   "execution_count": 9,
   "id": "0f1e34ca",
   "metadata": {},
   "outputs": [
    {
     "data": {
      "application/vnd.jupyter.widget-view+json": {
       "model_id": "ddc6a13a72044b588bdbd0a45f96b69e",
       "version_major": 2,
       "version_minor": 0
      },
      "text/plain": [
       "interactive(children=(FloatSlider(value=0.5, description='Friction', max=1.0, step=0.01), FloatSlider(value=9.…"
      ]
     },
     "metadata": {},
     "output_type": "display_data"
    }
   ],
   "source": [
    "# Link the sliders to the function and display the interactive widget\n",
    "widgets.interact(update_results, \n",
    "                friction=friction_slider, \n",
    "                gravity=gravity_slider, \n",
    "                angle=angle_slider, \n",
    "                force=force_slider);"
   ]
  },
  {
   "cell_type": "markdown",
   "id": "b7f135cb",
   "metadata": {},
   "source": [
    "You can use the sliders to adjust the parameters and observe how the predicted score and its explanation change dynamically.\n",
    "\n",
    "#### Interpretation of the Stability Score:\n",
    "- **Low (score < 5000)**: The system's stability may be inadequate.\n",
    "- **Moderate (5000 ≤ score < 15000)**: The system can handle normal conditions but may need optimization for extreme situations.\n",
    "- **Good (15000 ≤ score < 30000)**: Stable under standard conditions but could be improved for specialized cases.\n",
    "- **Ideal (score ≥ 30000)**: Well-optimized and performs reliably.\n"
   ]
  },
  {
   "cell_type": "markdown",
   "id": "5b3e1262",
   "metadata": {},
   "source": [
    "### Example Scenarios: Earth Landing vs. Moon Landing\n",
    "\n",
    "#### Earth Landing (Gravity ≈ 9.81 m/s²):\n",
    "- **Friction**:  \n",
    "  Earth environments have variable friction, typically ranging from 0.1 (ice) to 1.0 (steel on steel). This variation depends on the landing surface and conditions (e.g., wet or dry).\n",
    "  \n",
    "- **Force**:  \n",
    "  The force exerted on a spacecraft during re-entry could vary widely, depending on the size and design of the craft. Forces typically range from a few hundred Newtons up to several thousand Newtons.\n",
    "\n",
    "- **Angle**:  \n",
    "  The entry angle can vary but is usually around 5° to 10° for a controlled re-entry.  \n",
    "  - **Steeper Angles**: Lead to high temperatures and potential structural damage due to increased friction and heat.  \n",
    "  - **Shallow Angles**: May result in a \"skipping\" effect where the spacecraft bounces off the atmosphere, delaying re-entry.\n",
    "\n",
    "#### Moon Landing (Gravity ≈ 1.62 m/s²):\n",
    "- **Friction**:  \n",
    "  Lunar surfaces have very low friction due to the fine dust covering the Moon's surface, typically with friction coefficients below 0.5.\n",
    "\n",
    "- **Force**:  \n",
    "  Lower gravity on the Moon means that the forces required for maneuvers and landings are generally much lower than on Earth. This reduces strain on landing gear and other systems.\n",
    "\n",
    "- **Angle**:  \n",
    "  Lunar entry angles might be similar to Earth but are adjusted for the lower gravitational force. Controlled, shallower entry angles are often possible due to the Moon's reduced atmospheric drag and lower gravity.\n",
    "\n",
    "#### Key Takeaways:\n",
    "- These scenarios help illustrate how parameters such as friction, gravity, force, and angle must be carefully adapted to suit the environment, whether on Earth, the Moon, or other celestial bodies.\n",
    "- Users can adjust these values in the simulation to observe how different planetary conditions impact stability scores and outcomes.\n"
   ]
  },
  {
   "cell_type": "markdown",
   "id": "2b0633d9",
   "metadata": {},
   "source": [
    "### Mitigating Friction in Space\n",
    "\n",
    "In space, friction behaves differently due to the absence of an atmosphere, gravity, and the unique environmental conditions. While traditional friction from air resistance or surface contact is minimal or nonexistent, engineers still need to manage friction in specific contexts, such as mechanical systems or during re-entry into an atmosphere.\n",
    "\n",
    "#### Increasing Friction in Space\n",
    "- **Re-Entry Aerodynamics**:  \n",
    "  During atmospheric re-entry, spacecraft experience immense air resistance (a form of friction) due to interaction with the Earth's atmosphere. Engineers deliberately increase friction using blunt-shaped designs for re-entry vehicles, creating more drag and helping to reduce speed safely.\n",
    "\n",
    "- **Landing Systems**:  \n",
    "  Friction is crucial during landing to prevent sliding or skidding on the surface (e.g., Moon, Mars). This is achieved by designing landing gear with high-friction materials such as rubber or specialized coatings.\n",
    "\n",
    "- **Mechanical Systems**:  \n",
    "  In space, increasing friction might be necessary in mechanical systems (like robotic arms or joints) to ensure they hold their position under applied forces. Engineers can design these components with high-friction materials or add mechanical braking systems.\n",
    "\n",
    "#### Decreasing Friction in Space\n",
    "- **Vacuum Conditions**:  \n",
    "  Space itself provides a near-frictionless environment as there is no air resistance. This natural condition is exploited for the smooth movement of spacecraft and satellites.\n",
    "\n",
    "- **Lubrication**:  \n",
    "  Special lubricants, such as vacuum-grade grease or solid lubricants like graphite, are used to reduce friction in mechanical systems (e.g., bearings, joints). These are designed to operate in extreme conditions of temperature and pressure.\n",
    "\n",
    "- **Surface Treatments**:  \n",
    "  Components are often coated with low-friction materials like Teflon or molybdenum disulfide to reduce wear and tear during motion.\n",
    "\n",
    "- **Thruster Maneuvers**:  \n",
    "  For spacecraft docking or positioning, precision thrusters are used instead of physical contact mechanisms. This eliminates the need for contact friction adjustments entirely.\n",
    "\n",
    "#### Balancing Friction\n",
    "In space engineering, friction is carefully balanced depending on the system's needs. While low friction is desirable for fuel efficiency and smooth operation in vacuum conditions, controlled friction is essential for safe re-entry, stable landings, and mechanical reliability.\n"
   ]
  },
  {
   "cell_type": "markdown",
   "id": "6c906d26",
   "metadata": {},
   "source": [
    "### Conclusion: Practical Considerations in Space Engineering\n",
    "\n",
    "Maximising the input parameters to achieve the best possible outcome for stability may seem ideal, but there are multiple practical considerations that space agencies like NASA must take into account:\n",
    "\n",
    "- **Cost**:  \n",
    "  Engineering a system to operate at maximum efficiency often requires significantly more resources, whether that be materials, technology, or time. Space missions must balance performance with budget constraints to stay within funding limits.\n",
    "\n",
    "- **Safety and Reliability**:  \n",
    "  Operating at the absolute maximum values may push systems to their limits, making them prone to failure. Engineers prioritise building systems that are reliable and have safety margins to handle unexpected situations.\n",
    "\n",
    "- **Weight and Efficiency**:  \n",
    "  Achieving optimal performance can increase the weight of the craft, which in turn affects fuel efficiency and overall mission performance. For instance, larger fuel tanks or more powerful engines might be needed, which can add significant weight.\n",
    "\n",
    "- **Technology Limits**:  \n",
    "  There may be technological limitations in terms of materials, engineering capabilities, and current technology. Systems must be designed to handle real-world conditions within the current level of technology.\n",
    "\n",
    "- **Risk Management**:  \n",
    "  While aiming for the best possible outcome, space agencies also need to consider risk mitigation. The use of conservative, proven parameters ensures that the mission has a higher chance of success, especially when the environment is unpredictable or hazardous.\n",
    "\n",
    "This highlights the balance between theoretical optimization and real-world application. By simulating various conditions and understanding the trade-offs, engineers can design systems that perform reliably while adhering to constraints such as cost, safety, and technological feasibility.\n"
   ]
  },
  {
   "cell_type": "markdown",
   "id": "3f9c76d4",
   "metadata": {},
   "source": [
    "### Skills Demonstrated and Tools Used\n",
    "\n",
    "This project highlights a range of technical and analytical skills, as well as proficiency in key programming tools and libraries. These include:\n",
    "\n",
    "#### Skills:\n",
    "- **Mathematical Modeling**:  \n",
    "  Developing and applying a formula to calculate the stability score based on input parameters.\n",
    "\n",
    "- **Simulation Design**:  \n",
    "  Creating an interactive simulation to explore various real-world scenarios, including Earth and Moon landings.\n",
    "\n",
    "- **Communication**:  \n",
    "  Providing clear explanations of the results and illustrating complex concepts through markdown and interactive tools.\n",
    "\n",
    "- **Problem-Solving**:  \n",
    "  Designing a simplified system to model a critical aspect of aerospace engineering.\n",
    "\n",
    "#### Tools and Technologies Used:\n",
    "- **Python**:  \n",
    "  The primary programming language for data analysis and visualization.\n",
    "\n",
    "- **Jupyter Notebook**:  \n",
    "  Used for interactive development, combining code, visualizations, and explanatory markdown cells.\n",
    "\n",
    "- **Libraries**:  \n",
    "  - **pandas**: For data manipulation and organization.  \n",
    "  - **numpy**: For mathematical computations.  \n",
    "  - **ipywidgets**: For creating interactive sliders and inputs.\n",
    "\n",
    "#### Key Takeaways:\n",
    "This project demonstrates an ability to integrate theoretical knowledge with practical coding skills, resulting in an interactive, educational tool. It showcases how simulations and mathematical modeling can help analyze and optimize engineering systems, with potential applications in real-world aerospace challenges.\n"
   ]
  },
  {
   "cell_type": "code",
   "execution_count": null,
   "id": "32ca8a4d",
   "metadata": {},
   "outputs": [],
   "source": []
  }
 ],
 "metadata": {
  "kernelspec": {
   "display_name": "Python 3 (ipykernel)",
   "language": "python",
   "name": "python3"
  },
  "language_info": {
   "codemirror_mode": {
    "name": "ipython",
    "version": 3
   },
   "file_extension": ".py",
   "mimetype": "text/x-python",
   "name": "python",
   "nbconvert_exporter": "python",
   "pygments_lexer": "ipython3",
   "version": "3.11.5"
  }
 },
 "nbformat": 4,
 "nbformat_minor": 5
}
